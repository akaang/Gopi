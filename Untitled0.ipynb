{
  "nbformat": 4,
  "nbformat_minor": 0,
  "metadata": {
    "colab": {
      "provenance": []
    },
    "kernelspec": {
      "name": "python3",
      "display_name": "Python 3"
    },
    "language_info": {
      "name": "python"
    }
  },
  "cells": [
    {
      "cell_type": "code",
      "execution_count": null,
      "metadata": {
        "id": "zBqgYJDOzOd0"
      },
      "outputs": [],
      "source": []
    },
    {
      "cell_type": "code",
      "source": [
        "# Simple chatbot in Google Colab\n",
        "def chatbot():\n",
        "    print(\"Welcome to the Chatbot! Type 'exit' to stop chatting.\\n\")\n",
        "    while True:\n",
        "        # Take input from the user\n",
        "        user_input = input(\"You: \").lower()\n",
        "\n",
        "        # End the chat if the user types 'exit'\n",
        "        if user_input == \"exit\":\n",
        "            print(\"Chatbot: Goodbye! Have a great day!\")\n",
        "            break\n",
        "\n",
        "        # Responses based on keywords\n",
        "        elif \"hello\" in user_input or \"hi\" in user_input:\n",
        "            print(\"Chatbot: Hello! what do you want for lunch today?\")\n",
        "        elif \"pizza\" in user_input:\n",
        "            print(\"Chatbot: pizza hut or dominos\")\n",
        "        elif \"pizza hut\" in user_input or \"dominos\" in user_input:\n",
        "            print(\"Chatbot: ok, veg or non veg?\")\n",
        "        elif \"veg\" in user_input or \"non veg\" in user_input:\n",
        "            print(\"Chatbot: ok, our team from dominos will reach out to you in 5 mins. Thank you for reaching out!!!\")\n",
        "\n",
        "# Run the chatbot\n",
        "chatbot()"
      ],
      "metadata": {
        "colab": {
          "base_uri": "https://localhost:8080/"
        },
        "id": "OyM1Hte5zVCj",
        "outputId": "8992ccb0-1c9f-4259-a278-4dd05cca4c6f"
      },
      "execution_count": null,
      "outputs": [
        {
          "output_type": "stream",
          "name": "stdout",
          "text": [
            "Welcome to the Chatbot! Type 'exit' to stop chatting.\n",
            "\n",
            "You: hi\n",
            "Chatbot: Hello! what do you want for lunch today?\n",
            "You: pizza\n",
            "Chatbot: pizza hut or dominos\n",
            "You: dominos\n",
            "Chatbot: ok, veg or non veg?\n",
            "You: veg\n",
            "Chatbot: ok, our team from dominos will reach out to you in 5 mins. Thank you for reaching out!!!\n"
          ]
        }
      ]
    },
    {
      "cell_type": "code",
      "source": [],
      "metadata": {
        "id": "WjgiuIBe0lEZ"
      },
      "execution_count": null,
      "outputs": []
    },
    {
      "cell_type": "code",
      "source": [],
      "metadata": {
        "id": "vEEAfb0j0igU"
      },
      "execution_count": null,
      "outputs": []
    },
    {
      "cell_type": "markdown",
      "source": [],
      "metadata": {
        "id": "79Yl8Edo0gF6"
      }
    },
    {
      "cell_type": "code",
      "source": [],
      "metadata": {
        "id": "ke8Jl4AK0gqX"
      },
      "execution_count": null,
      "outputs": []
    }
  ]
}